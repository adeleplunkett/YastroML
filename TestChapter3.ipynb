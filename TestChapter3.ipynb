{
 "metadata": {
  "name": ""
 },
 "nbformat": 3,
 "nbformat_minor": 0,
 "worksheets": [
  {
   "cells": [
    {
     "cell_type": "heading",
     "level": 1,
     "metadata": {},
     "source": [
      "Chapter 3 -- Probability and Statistical Distributions"
     ]
    },
    {
     "cell_type": "heading",
     "level": 2,
     "metadata": {},
     "source": [
      "Random numbers and percentiles"
     ]
    },
    {
     "cell_type": "code",
     "collapsed": false,
     "input": [
      "import numpy as np\n",
      "x=np.random.random(100) # 100 random numbers\n",
      "q25, q50, q75 = np.percentile(x, [25,50,75])"
     ],
     "language": "python",
     "metadata": {},
     "outputs": [],
     "prompt_number": 1
    },
    {
     "cell_type": "code",
     "collapsed": false,
     "input": [
      "print '25th, 50th, 75th percentiles: %.2f %.2f %.2f' %(q25, q50, q75)"
     ],
     "language": "python",
     "metadata": {},
     "outputs": [
      {
       "output_type": "stream",
       "stream": "stdout",
       "text": [
        "25th, 50th, 75th percentiles: 0.25 0.48 0.71\n"
       ]
      }
     ],
     "prompt_number": 2
    },
    {
     "cell_type": "heading",
     "level": 2,
     "metadata": {},
     "source": [
      "Sigma"
     ]
    },
    {
     "cell_type": "code",
     "collapsed": false,
     "input": [
      "import numpy as np\n",
      "from astroML import stats\n",
      "x = np.random.normal(size=1000) #1000 normally distributed points\n",
      "stats.sigmaG(x)"
     ],
     "language": "python",
     "metadata": {},
     "outputs": [
      {
       "metadata": {},
       "output_type": "pyout",
       "prompt_number": 3,
       "text": [
        "1.0343081479287635"
       ]
      }
     ],
     "prompt_number": 3
    },
    {
     "cell_type": "heading",
     "level": 2,
     "metadata": {},
     "source": [
      "Uniform Distribution"
     ]
    },
    {
     "cell_type": "code",
     "collapsed": false,
     "input": [
      "from scipy import stats\n",
      "dist = stats.uniform(0,2) # left edge = 0, width = 2\n",
      "r = dist.rvs(10) # 10 random draws\n",
      "p = dist.pdf(1) # pdf evaluated at x=1"
     ],
     "language": "python",
     "metadata": {},
     "outputs": [],
     "prompt_number": 4
    },
    {
     "cell_type": "code",
     "collapsed": false,
     "input": [
      "print 'random draws are' \n",
      "print r"
     ],
     "language": "python",
     "metadata": {},
     "outputs": [
      {
       "output_type": "stream",
       "stream": "stdout",
       "text": [
        "random draws are\n",
        "[ 0.05732433  0.04145259  0.57192096  1.32333086  1.53203049  1.9835889\n",
        "  0.71554411  1.53575696  1.72611851  0.62222548]\n"
       ]
      }
     ],
     "prompt_number": 7
    },
    {
     "cell_type": "code",
     "collapsed": false,
     "input": [
      "print 'PDF evaluated at x=1 (remember, a uniform distribution with width of 2): %.1f' %(p)"
     ],
     "language": "python",
     "metadata": {},
     "outputs": [
      {
       "output_type": "stream",
       "stream": "stdout",
       "text": [
        "PDF evaluated at x=1 (remember, a normal distribution with width of 2): 0.5\n"
       ]
      }
     ],
     "prompt_number": 8
    },
    {
     "cell_type": "code",
     "collapsed": false,
     "input": [
      "# Author: Jake VanderPlas\n",
      "# License: BSD\n",
      "#   The figure produced by this code is published in the textbook\n",
      "#   \"Statistics, Data Mining, and Machine Learning in Astronomy\" (2013)\n",
      "#   For more information, see http://astroML.github.com\n",
      "#   To report a bug or issue, use the following forum:\n",
      "#    https://groups.google.com/forum/#!forum/astroml-general\n",
      "import numpy as np\n",
      "from scipy.stats import uniform\n",
      "from matplotlib import pyplot as plt\n",
      "%matplotlib inline  \n",
      "\n",
      "#----------------------------------------------------------------------\n",
      "# This function adjusts matplotlib settings for a uniform feel in the textbook.\n",
      "# Note that with usetex=True, fonts are rendered with LaTeX.  This may\n",
      "# result in an error if LaTeX is not installed on your system.  In that case,\n",
      "# you can set usetex to False.\n",
      "from astroML.plotting import setup_text_plots\n",
      "setup_text_plots(fontsize=8, usetex=True)\n",
      "\n",
      "#------------------------------------------------------------\n",
      "# Define the distribution parameters to be plotted\n",
      "W_values = [1.0, 2.0, 3.0]\n",
      "linestyles = ['-', '--', ':']\n",
      "mu = 0\n",
      "x = np.linspace(-2, 2, 1000)\n",
      "\n",
      "#------------------------------------------------------------\n",
      "# plot the distributions\n",
      "fig, ax = plt.subplots(figsize=(5, 3.75))\n",
      "\n",
      "for W, ls in zip(W_values, linestyles):\n",
      "    left = mu - 0.5 * W\n",
      "    dist = uniform(left, W)\n",
      "\n",
      "    plt.plot(x, dist.pdf(x), ls=ls, c='black',\n",
      "             label=r'$\\mu=%i,\\ W=%i$' % (mu, W))\n",
      "\n",
      "plt.xlim(-1.7, 1.7)\n",
      "plt.ylim(0, 1.2)\n",
      "\n",
      "plt.xlabel('$x$')\n",
      "plt.ylabel(r'$p(x|\\mu, W)$')\n",
      "plt.title('Uniform Distribution')\n",
      "\n",
      "plt.legend()\n",
      "plt.show()\n"
     ],
     "language": "python",
     "metadata": {},
     "outputs": [
      {
       "metadata": {},
       "output_type": "display_data",
       "png": "[encoded data removed]",
       "text": [
        "<matplotlib.figure.Figure at 0x1095ace10>"
       ]
      }
     ],
     "prompt_number": 10
    },
    {
     "cell_type": "heading",
     "level": 2,
     "metadata": {},
     "source": [
      "Gaussian (normal) distrubtion"
     ]
    },
    {
     "cell_type": "code",
     "collapsed": false,
     "input": [
      "from scipy import stats\n",
      "dist = stats.norm(0,1) # mean = 0, stdev = 1\n",
      "r = dist.rvs (10) # 10 random draws\n",
      "p = dist.pdf(0) # pdf evaluated at x=0"
     ],
     "language": "python",
     "metadata": {},
     "outputs": [],
     "prompt_number": 11
    },
    {
     "cell_type": "code",
     "collapsed": false,
     "input": [
      "print 'random draws are' \n",
      "print r"
     ],
     "language": "python",
     "metadata": {},
     "outputs": [
      {
       "output_type": "stream",
       "stream": "stdout",
       "text": [
        "random draws are\n",
        "[ 0.177998    1.18307998  1.48721012  2.66110164  1.04334428 -2.07839484\n",
        " -1.15089941  0.67576181 -0.19966996 -1.75488609]\n"
       ]
      }
     ],
     "prompt_number": 12
    },
    {
     "cell_type": "code",
     "collapsed": false,
     "input": [
      "print 'PDF evaluated at x=0 (remember, a normal distribution with mean of 0, stdev = 1): %.1f' %(p)"
     ],
     "language": "python",
     "metadata": {},
     "outputs": [
      {
       "output_type": "stream",
       "stream": "stdout",
       "text": [
        "PDF evaluated at x=0 (remember, a normal distribution with mean of 0, stdev = 1): 0.4\n"
       ]
      }
     ],
     "prompt_number": 13
    },
    {
     "cell_type": "code",
     "collapsed": false,
     "input": [
      "# Author: Jake VanderPlas\n",
      "# License: BSD\n",
      "#   The figure produced by this code is published in the textbook\n",
      "#   \"Statistics, Data Mining, and Machine Learning in Astronomy\" (2013)\n",
      "#   For more information, see http://astroML.github.com\n",
      "#   To report a bug or issue, use the following forum:\n",
      "#    https://groups.google.com/forum/#!forum/astroml-general\n",
      "import numpy as np\n",
      "from scipy.stats import norm\n",
      "from matplotlib import pyplot as plt\n",
      "%matplotlib inline  \n",
      "\n",
      "\n",
      "#----------------------------------------------------------------------\n",
      "# This function adjusts matplotlib settings for a uniform feel in the textbook.\n",
      "# Note that with usetex=True, fonts are rendered with LaTeX.  This may\n",
      "# result in an error if LaTeX is not installed on your system.  In that case,\n",
      "# you can set usetex to False.\n",
      "from astroML.plotting import setup_text_plots\n",
      "setup_text_plots(fontsize=8, usetex=True)\n",
      "\n",
      "#------------------------------------------------------------\n",
      "# Define the distributions to be plotted\n",
      "sigma_values = [0.5, 1.0, 2.0]\n",
      "linestyles = ['-', '--', ':']\n",
      "mu = 0\n",
      "x = np.linspace(-10, 10, 1000)\n",
      "\n",
      "#------------------------------------------------------------\n",
      "# plot the distributions\n",
      "fig, ax = plt.subplots(figsize=(5, 3.75))\n",
      "\n",
      "for sigma, ls in zip(sigma_values, linestyles):\n",
      "    # create a gaussian / normal distribution\n",
      "    dist = norm(mu, sigma)\n",
      "\n",
      "    plt.plot(x, dist.pdf(x), ls=ls, c='black',\n",
      "             label=r'$\\mu=%i,\\ \\sigma=%.1f$' % (mu, sigma))\n",
      "\n",
      "plt.xlim(-5, 5)\n",
      "plt.ylim(0, 0.85)\n",
      "\n",
      "plt.xlabel('$x$')\n",
      "plt.ylabel(r'$p(x|\\mu,\\sigma)$')\n",
      "plt.title('Gaussian Distribution')\n",
      "\n",
      "plt.legend()\n",
      "plt.show()"
     ],
     "language": "python",
     "metadata": {},
     "outputs": [
      {
       "metadata": {},
       "output_type": "display_data",
       "png": "[encoded data removed]",
       "text": [
        "<matplotlib.figure.Figure at 0x108142990>"
       ]
      }
     ],
     "prompt_number": 15
    },
    {
     "cell_type": "heading",
     "level": 4,
     "metadata": {},
     "source": [
      "Error Function"
     ]
    },
    {
     "cell_type": "code",
     "collapsed": false,
     "input": [
      "from scipy.special import erf\n",
      "erf(1)"
     ],
     "language": "python",
     "metadata": {},
     "outputs": [
      {
       "metadata": {},
       "output_type": "pyout",
       "prompt_number": 14,
       "text": [
        "0.84270079294971478"
       ]
      }
     ],
     "prompt_number": 14
    },
    {
     "cell_type": "heading",
     "level": 2,
     "metadata": {},
     "source": [
      "Binomial Distribution"
     ]
    },
    {
     "cell_type": "code",
     "collapsed": false,
     "input": [
      "from scipy import stats\n",
      "dist = stats.binom(20, 0.7) # N=20,b=0.7\n",
      "r = dist.rvs(10) # ten random draws\n",
      "p = dist.pmf(8) # probability evaluated at k=8"
     ],
     "language": "python",
     "metadata": {},
     "outputs": [],
     "prompt_number": 16
    },
    {
     "cell_type": "code",
     "collapsed": false,
     "input": [
      "from numpy.random import multinomial\n",
      "vals = multinomial(10, pvals=[0.2,0.3,0.5]) # pvals sum to 1"
     ],
     "language": "python",
     "metadata": {},
     "outputs": [],
     "prompt_number": 17
    },
    {
     "cell_type": "code",
     "collapsed": false,
     "input": [
      "print vals"
     ],
     "language": "python",
     "metadata": {},
     "outputs": [
      {
       "output_type": "stream",
       "stream": "stdout",
       "text": [
        "[1 5 4]\n"
       ]
      }
     ],
     "prompt_number": 18
    },
    {
     "cell_type": "heading",
     "level": 2,
     "metadata": {},
     "source": [
      "Poisson Distribution"
     ]
    },
    {
     "cell_type": "code",
     "collapsed": false,
     "input": [
      "from scipy import stats\n",
      "dist = stats.poisson(5) # mu=5\n",
      "r = dist.rvs(10) # 10 random draws\n",
      "p = dist.pmf(3) # probability evaluated at k=3"
     ],
     "language": "python",
     "metadata": {},
     "outputs": [],
     "prompt_number": 19
    },
    {
     "cell_type": "code",
     "collapsed": false,
     "input": [
      "print p"
     ],
     "language": "python",
     "metadata": {},
     "outputs": [
      {
       "output_type": "stream",
       "stream": "stdout",
       "text": [
        "0.140373895814\n"
       ]
      }
     ],
     "prompt_number": 20
    },
    {
     "cell_type": "heading",
     "level": 2,
     "metadata": {},
     "source": [
      "Cauchy (Lorentzian) Distribution"
     ]
    },
    {
     "cell_type": "code",
     "collapsed": false,
     "input": [
      "from scipy import stats\n",
      "dist = stats.cauchy(0,1) # mu=0, gamma=1\n",
      "r = dist.rvs(10) # 10 random draws\n",
      "p = dist.pdf(3) # pdf evaluated at x=3"
     ],
     "language": "python",
     "metadata": {},
     "outputs": [],
     "prompt_number": 21
    },
    {
     "cell_type": "code",
     "collapsed": false,
     "input": [
      "print p"
     ],
     "language": "python",
     "metadata": {},
     "outputs": [
      {
       "output_type": "stream",
       "stream": "stdout",
       "text": [
        "0.0318309886184\n"
       ]
      }
     ],
     "prompt_number": 22
    },
    {
     "cell_type": "heading",
     "level": 2,
     "metadata": {},
     "source": [
      "Exponential (Laplace) Distribution"
     ]
    },
    {
     "cell_type": "code",
     "collapsed": false,
     "input": [
      "from scipy import stats\n",
      "dist = stats.laplace(0,0.5) # mu=0, delta=0.5\n",
      "r = dist.rvs(10) # 10 random draws\n",
      "p = dist.pdf(3) # probability evaluated at x=3"
     ],
     "language": "python",
     "metadata": {},
     "outputs": [],
     "prompt_number": 24
    },
    {
     "cell_type": "code",
     "collapsed": false,
     "input": [
      "print p"
     ],
     "language": "python",
     "metadata": {},
     "outputs": [
      {
       "output_type": "stream",
       "stream": "stdout",
       "text": [
        "0.00247875217667\n"
       ]
      }
     ],
     "prompt_number": 25
    },
    {
     "cell_type": "heading",
     "level": 2,
     "metadata": {},
     "source": [
      "Chi-squared Distribution"
     ]
    },
    {
     "cell_type": "code",
     "collapsed": false,
     "input": [
      "from scipy import stats\n",
      "dist = stats.chi2(5) # k=5\n",
      "r = dist.rvs(10) # 10 random draws\n",
      "p = dist.pdf(1) # probability evaluated at x=1"
     ],
     "language": "python",
     "metadata": {},
     "outputs": [],
     "prompt_number": 26
    },
    {
     "cell_type": "code",
     "collapsed": false,
     "input": [
      "print p"
     ],
     "language": "python",
     "metadata": {},
     "outputs": [
      {
       "output_type": "stream",
       "stream": "stdout",
       "text": [
        "0.080656908173\n"
       ]
      }
     ],
     "prompt_number": 27
    },
    {
     "cell_type": "code",
     "collapsed": false,
     "input": [
      "# Author: Jake VanderPlas\n",
      "# License: BSD\n",
      "#   The figure produced by this code is published in the textbook\n",
      "#   \"Statistics, Data Mining, and Machine Learning in Astronomy\" (2013)\n",
      "#   For more information, see http://astroML.github.com\n",
      "#   To report a bug or issue, use the following forum:\n",
      "#    https://groups.google.com/forum/#!forum/astroml-general\n",
      "import numpy as np\n",
      "from scipy.stats import chi2\n",
      "from matplotlib import pyplot as plt\n",
      "%matplotlib inline  \n",
      "\n",
      "#----------------------------------------------------------------------\n",
      "# This function adjusts matplotlib settings for a uniform feel in the textbook.\n",
      "# Note that with usetex=True, fonts are rendered with LaTeX.  This may\n",
      "# result in an error if LaTeX is not installed on your system.  In that case,\n",
      "# you can set usetex to False.\n",
      "from astroML.plotting import setup_text_plots\n",
      "setup_text_plots(fontsize=8, usetex=True)\n",
      "\n",
      "#------------------------------------------------------------\n",
      "# Define the distribution parameters to be plotted\n",
      "k_values = [1, 2, 5, 7]\n",
      "linestyles = ['-', '--', ':', '-.']\n",
      "mu = 0\n",
      "x = np.linspace(-1, 20, 1000)\n",
      "\n",
      "#------------------------------------------------------------\n",
      "# plot the distributions\n",
      "fig, ax = plt.subplots(figsize=(5, 3.75))\n",
      "fig.subplots_adjust(bottom=0.12)\n",
      "\n",
      "for k, ls in zip(k_values, linestyles):\n",
      "    dist = chi2(k, mu)\n",
      "\n",
      "    plt.plot(x, dist.pdf(x), ls=ls, c='black',\n",
      "             label=r'$k=%i$' % k)\n",
      "\n",
      "plt.xlim(0, 10)\n",
      "plt.ylim(0, 0.5)\n",
      "\n",
      "plt.xlabel('$Q$')\n",
      "plt.ylabel(r'$p(Q|k)$')\n",
      "plt.title(r'$\\chi^2\\ \\mathrm{Distribution}$')\n",
      "\n",
      "plt.legend()\n",
      "plt.show()"
     ],
     "language": "python",
     "metadata": {},
     "outputs": [
      {
       "metadata": {},
       "output_type": "display_data",
       "png": "[encoded data removed]",
       "text": [
        "<matplotlib.figure.Figure at 0x109781510>"
       ]
      }
     ],
     "prompt_number": 28
    },
    {
     "cell_type": "code",
     "collapsed": false,
     "input": [],
     "language": "python",
     "metadata": {},
     "outputs": []
    }
   ],
   "metadata": {}
  }
 ]
}